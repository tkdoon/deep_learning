{
  "nbformat": 4,
  "nbformat_minor": 0,
  "metadata": {
    "colab": {
      "provenance": [],
      "private_outputs": true,
      "authorship_tag": "ABX9TyPDi6jQ+Dp9q0eB/2CqUxOb",
      "include_colab_link": true
    },
    "kernelspec": {
      "name": "python3",
      "display_name": "Python 3"
    },
    "language_info": {
      "name": "python"
    },
    "gpuClass": "standard"
  },
  "cells": [
    {
      "cell_type": "markdown",
      "metadata": {
        "id": "view-in-github",
        "colab_type": "text"
      },
      "source": [
        "<a href=\"https://colab.research.google.com/github/tkdoon/deep_learning/blob/main/pt_to_tflite.ipynb\" target=\"_parent\"><img src=\"https://colab.research.google.com/assets/colab-badge.svg\" alt=\"Open In Colab\"/></a>"
      ]
    },
    {
      "cell_type": "code",
      "source": [
        "%pwd"
      ],
      "metadata": {
        "id": "e0_KgQW6bTgx"
      },
      "execution_count": null,
      "outputs": []
    },
    {
      "cell_type": "code",
      "source": [
        "%cd /content"
      ],
      "metadata": {
        "id": "gw1TPJOPbXWS"
      },
      "execution_count": null,
      "outputs": []
    },
    {
      "cell_type": "code",
      "execution_count": null,
      "metadata": {
        "id": "uqbPdjpqmiMv"
      },
      "outputs": [],
      "source": [
        "%pip install onnx onnxruntime onnxsim onnx-tf"
      ]
    },
    {
      "cell_type": "code",
      "source": [
        "!git clone https://github.com/WongKinYiu/yolov7.git"
      ],
      "metadata": {
        "id": "B0Mx0ZZYg8IV"
      },
      "execution_count": null,
      "outputs": []
    },
    {
      "cell_type": "code",
      "source": [
        "%cd yolov7"
      ],
      "metadata": {
        "id": "3cwHoU1LaWqj"
      },
      "execution_count": null,
      "outputs": []
    },
    {
      "cell_type": "code",
      "source": [
        "%pip install protobuf==3.20.2"
      ],
      "metadata": {
        "id": "yEoFB3GtgjIU"
      },
      "execution_count": null,
      "outputs": []
    },
    {
      "cell_type": "code",
      "source": [
        "%pip install -r requirements.txt"
      ],
      "metadata": {
        "id": "P6QHPC7HfxSS"
      },
      "execution_count": null,
      "outputs": []
    },
    {
      "cell_type": "code",
      "source": [
        "%pip install nvidia-pyindex\n",
        "%pip install onnx-graphsurgeon"
      ],
      "metadata": {
        "id": "oCWWr7wvh65p"
      },
      "execution_count": null,
      "outputs": []
    },
    {
      "cell_type": "markdown",
      "source": [
        "yolov7のモデルを使う場合，yolov7のモデルをダウンロード"
      ],
      "metadata": {
        "id": "SADsOSNj8kSf"
      }
    },
    {
      "cell_type": "code",
      "source": [
        "!wget https://github.com/WongKinYiu/yolov7/releases/download/v0.1/yolov7.pt"
      ],
      "metadata": {
        "id": "DxArOKQGjUGs"
      },
      "execution_count": null,
      "outputs": []
    },
    {
      "cell_type": "markdown",
      "source": [
        "yolov7フォルダにptファイルを置く"
      ],
      "metadata": {
        "id": "Ey32x-hF6pv_"
      }
    },
    {
      "cell_type": "code",
      "source": [
        "!python export.py --weights best.pt --grid --end2end --simplify \\\n",
        "        --topk-all 100 --iou-thres 0.65 --conf-thres 0.35 --img-size 640 640 --max-wh 640"
      ],
      "metadata": {
        "id": "RoKIW33Gf4v5"
      },
      "execution_count": null,
      "outputs": []
    },
    {
      "cell_type": "code",
      "source": [
        "!pip install tensorflow tensorflow_probability"
      ],
      "metadata": {
        "id": "JYsgEuY264oj"
      },
      "execution_count": null,
      "outputs": []
    },
    {
      "cell_type": "code",
      "source": [
        "!mkdir tfmodel_\n",
        "!onnx-tf convert -i best.onnx -o tfmodel_/"
      ],
      "metadata": {
        "id": "3xDW98zt7AEL"
      },
      "execution_count": null,
      "outputs": []
    },
    {
      "cell_type": "code",
      "source": [
        "import tensorflow as tf\n",
        "\n",
        "converter = tf.lite.TFLiteConverter.from_saved_model('tfmodel_/')\n",
        "tflite_model = converter.convert()\n",
        "\n",
        "with open('tfmodel_/yolov7_model.tflite', 'wb') as f:\n",
        "\tf.write(tflite_model)"
      ],
      "metadata": {
        "id": "-8FAkm8d75jn"
      },
      "execution_count": null,
      "outputs": []
    }
  ]
}